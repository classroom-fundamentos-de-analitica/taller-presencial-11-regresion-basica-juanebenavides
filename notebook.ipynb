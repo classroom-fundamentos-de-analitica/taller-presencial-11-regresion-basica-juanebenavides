{
 "cells": [
  {
   "cell_type": "code",
   "execution_count": 1,
   "metadata": {},
   "outputs": [
    {
     "ename": "ModuleNotFoundError",
     "evalue": "No module named 'pandas'",
     "output_type": "error",
     "traceback": [
      "\u001b[1;31m---------------------------------------------------------------------------\u001b[0m",
      "\u001b[1;31mModuleNotFoundError\u001b[0m                       Traceback (most recent call last)",
      "Cell \u001b[1;32mIn[1], line 1\u001b[0m\n\u001b[1;32m----> 1\u001b[0m \u001b[38;5;28;01mimport\u001b[39;00m \u001b[38;5;21;01mpandas\u001b[39;00m \u001b[38;5;28;01mas\u001b[39;00m \u001b[38;5;21;01mpd\u001b[39;00m\n\u001b[0;32m      3\u001b[0m dataset \u001b[38;5;241m=\u001b[39m pd\u001b[38;5;241m.\u001b[39mread_csv(\u001b[38;5;124m\"\u001b[39m\u001b[38;5;124mauto_mpg.csv\u001b[39m\u001b[38;5;124m\"\u001b[39m)\n\u001b[0;32m      4\u001b[0m dataset\u001b[38;5;241m.\u001b[39mhead()\n",
      "\u001b[1;31mModuleNotFoundError\u001b[0m: No module named 'pandas'"
     ]
    }
   ],
   "source": [
    "import pandas as pd\n",
    "\n",
    "dataset = pd.read_csv(\"auto_mpg.csv\")\n",
    "dataset.head()"
   ]
  },
  {
   "cell_type": "code",
   "execution_count": null,
   "metadata": {},
   "outputs": [],
   "source": [
    "# Tamaño del dataset\n",
    "#\n",
    "dataset.shape"
   ]
  },
  {
   "cell_type": "code",
   "execution_count": null,
   "metadata": {},
   "outputs": [],
   "source": [
    "# Búsqueda de valores nulos\n",
    "#\n",
    "dataset.isna().sum()"
   ]
  },
  {
   "cell_type": "code",
   "execution_count": null,
   "metadata": {},
   "outputs": [],
   "source": [
    "# Columna Origin\n",
    "# Nota:  1) USA\n",
    "#        2) Europe\n",
    "#        3) Japan\n",
    "dataset.Origin.value_counts()"
   ]
  },
  {
   "cell_type": "code",
   "execution_count": null,
   "metadata": {},
   "outputs": [],
   "source": [
    "dataset = pd.get_dummies(dataset, columns=[\"Origin\"], prefix=\"\", prefix_sep=\"\")\n",
    "dataset.head()"
   ]
  },
  {
   "cell_type": "code",
   "execution_count": null,
   "metadata": {},
   "outputs": [],
   "source": [
    "train_dataset = dataset.sample(frac=0.8, random_state=0)\n",
    "test_dataset = dataset.drop(train_dataset.index)"
   ]
  },
  {
   "cell_type": "code",
   "execution_count": null,
   "metadata": {},
   "outputs": [],
   "source": [
    "import seaborn as sns\n",
    "\n",
    "sns.pairplot(\n",
    "    train_dataset[[\"MPG\", \"Cylinders\", \"Displacement\", \"Weight\"]], diag_kind=\"kde\"\n",
    ")"
   ]
  },
  {
   "cell_type": "code",
   "execution_count": null,
   "metadata": {},
   "outputs": [],
   "source": [
    "# Cálculo de algunas estadísticas generales\n",
    "#\n",
    "train_dataset.describe().transpose()"
   ]
  },
  {
   "cell_type": "code",
   "execution_count": null,
   "metadata": {},
   "outputs": [],
   "source": [
    "# Separación de las X y la y en el modelo de regresión\n",
    "#\n",
    "train_features = train_dataset.copy()\n",
    "test_features = test_dataset.copy()\n",
    "\n",
    "train_labels = train_features.pop(\"MPG\")\n",
    "test_labels = test_features.pop(\"MPG\")"
   ]
  },
  {
   "cell_type": "code",
   "execution_count": null,
   "metadata": {},
   "outputs": [],
   "source": [
    "#\n",
    "# Transformación de los datos\n",
    "#\n",
    "train_dataset.describe().transpose()[[\"mean\", \"std\"]]"
   ]
  },
  {
   "cell_type": "code",
   "execution_count": null,
   "metadata": {},
   "outputs": [],
   "source": [
    "\n",
    "# Efecto del StandardScaler\n",
    "#\n",
    "from sklearn.preprocessing import StandardScaler\n",
    "\n",
    "scaler = StandardScaler()\n",
    "pd.DataFrame(\n",
    "    data=scaler.fit_transform(train_dataset),\n",
    "    columns=train_dataset.columns,\n",
    ").describe().transpose()[[\"mean\", \"std\"]]\n"
   ]
  },
  {
   "cell_type": "code",
   "execution_count": null,
   "metadata": {},
   "outputs": [],
   "source": [
    "##\n",
    "## Modelo de regresión lineal con UNA variable\n",
    "##\n",
    "\n",
    "#\n",
    "# Preparación de la data\n",
    "#\n",
    "horsepower_scaler = StandardScaler()\n",
    "\n",
    "train_horsepower = train_features[[\"Horsepower\"]]\n",
    "test_horsepower = test_features[[\"Horsepower\"]]\n",
    "\n",
    "horsepower_scaler.fit(train_horsepower)\n",
    "\n",
    "standarized_train_horsepower = horsepower_scaler.transform(train_horsepower)\n",
    "standarized_test_horsepower = horsepower_scaler.transform(test_horsepower)"
   ]
  },
  {
   "cell_type": "code",
   "execution_count": null,
   "metadata": {},
   "outputs": [],
   "source": [
    "\n",
    "# Modelo de regresión lineal\n",
    "#\n",
    "from sklearn.linear_model import LinearRegression\n",
    "\n",
    "horsepower_model = LinearRegression()\n",
    "horsepower_model.fit(standarized_train_horsepower, train_labels)"
   ]
  },
  {
   "cell_type": "code",
   "execution_count": null,
   "metadata": {},
   "outputs": [],
   "source": [
    "\n",
    "#\n",
    "# Intercepto\n",
    "#\n",
    "horsepower_model.intercept_\n"
   ]
  },
  {
   "cell_type": "code",
   "execution_count": null,
   "metadata": {},
   "outputs": [],
   "source": [
    "#\n",
    "# Coeficientes\n",
    "#\n",
    "horsepower_model.coef_"
   ]
  },
  {
   "cell_type": "code",
   "execution_count": null,
   "metadata": {},
   "outputs": [],
   "source": [
    "#\n",
    "# Predicción. Preparación de las variables independientes\n",
    "#\n",
    "import numpy as np\n",
    "\n",
    "x = pd.DataFrame({\"Horsepower\": np.linspace(0, 250, 251)})\n",
    "x.head()\n"
   ]
  },
  {
   "cell_type": "code",
   "execution_count": null,
   "metadata": {},
   "outputs": [],
   "source": [
    "#\n",
    "# Predicción\n",
    "#\n",
    "scaled_x = horsepower_scaler.transform(x)\n",
    "y = horsepower_model.predict(scaled_x)\n",
    "y[:5]\n"
   ]
  },
  {
   "cell_type": "code",
   "execution_count": null,
   "metadata": {},
   "outputs": [],
   "source": [
    "\n",
    "import matplotlib.pyplot as plt\n",
    "\n",
    "\n",
    "def plot_horsepower(x, y):\n",
    "    plt.scatter(train_features[\"Horsepower\"], train_labels, label=\"Data\")\n",
    "    plt.plot(x, y, color=\"k\", label=\"Predictions\")\n",
    "    plt.xlabel(\"Horsepower\")\n",
    "    plt.ylabel(\"MPG\")\n",
    "    plt.legend()\n"
   ]
  },
  {
   "cell_type": "code",
   "execution_count": null,
   "metadata": {},
   "outputs": [],
   "source": [
    "plot_horsepower(x, y)"
   ]
  },
  {
   "cell_type": "code",
   "execution_count": null,
   "metadata": {},
   "outputs": [],
   "source": [
    "#\n",
    "# Evaluación\n",
    "#\n",
    "from sklearn.metrics import mean_squared_error\n",
    "\n",
    "test_results = {}\n",
    "\n",
    "y_pred = horsepower_model.predict(standarized_test_horsepower)\n",
    "\n",
    "test_results[\"horsepower_model\"] = mean_squared_error(\n",
    "    y_true=test_labels,\n",
    "    y_pred=y_pred,\n",
    ")\n",
    "\n",
    "test_results\n"
   ]
  },
  {
   "cell_type": "code",
   "execution_count": null,
   "metadata": {},
   "outputs": [],
   "source": [
    "\n",
    "##\n",
    "## Modelo de regresión lineal con TODAS las variables\n",
    "## \n",
    "\n",
    "#\n",
    "# Preparación de la data\n",
    "#\n",
    "features_scaler = StandardScaler()\n",
    "\n",
    "features_scaler.fit(train_features)\n",
    "\n",
    "standarized_train_features = features_scaler.transform(train_features)\n",
    "standarized_test_features = features_scaler.transform(test_features)"
   ]
  },
  {
   "cell_type": "code",
   "execution_count": null,
   "metadata": {},
   "outputs": [],
   "source": [
    "#\n",
    "# Entrenamiento\n",
    "#\n",
    "linear_model = LinearRegression()\n",
    "linear_model.fit(standarized_train_features, train_labels)"
   ]
  },
  {
   "cell_type": "code",
   "execution_count": null,
   "metadata": {},
   "outputs": [],
   "source": [
    "#\n",
    "# Coeficientes\n",
    "#\n",
    "linear_model.coef_"
   ]
  },
  {
   "cell_type": "code",
   "execution_count": null,
   "metadata": {},
   "outputs": [],
   "source": [
    "\n",
    "# Intercepto\n",
    "#\n",
    "linear_model.intercept_\n"
   ]
  },
  {
   "cell_type": "code",
   "execution_count": null,
   "metadata": {},
   "outputs": [],
   "source": [
    "def plot_predictions(y_true, y_pred):\n",
    "\n",
    "    ax = plt.axes(aspect=\"equal\")\n",
    "    plt.scatter(y_true, y_pred)\n",
    "    plt.xlabel(\"True Values [MPG]\")\n",
    "    plt.ylabel(\"Predictions [MPG]\")\n",
    "    lims = [0, 50]\n",
    "    plt.xlim(lims)\n",
    "    plt.ylim(lims)\n",
    "    _ = plt.plot(lims, lims)\n",
    "\n"
   ]
  },
  {
   "cell_type": "code",
   "execution_count": null,
   "metadata": {},
   "outputs": [],
   "source": [
    "test_predictions = linear_model.predict(standarized_test_features)\n",
    "\n",
    "plot_predictions(\n",
    "    y_true=test_labels,\n",
    "    y_pred=test_predictions,\n",
    ")"
   ]
  },
  {
   "cell_type": "code",
   "execution_count": null,
   "metadata": {},
   "outputs": [],
   "source": [
    "\n",
    "test_results[\"linear_model\"] = mean_squared_error(\n",
    "    y_true=test_labels,\n",
    "    y_pred=test_predictions,\n",
    ")\n",
    "\n",
    "test_results\n"
   ]
  },
  {
   "cell_type": "code",
   "execution_count": null,
   "metadata": {},
   "outputs": [],
   "source": [
    "\n",
    "##\n",
    "## Modelo de redes neuronales con UNA variable\n",
    "##\n",
    "\n",
    "\n",
    "from sklearn.neural_network import MLPRegressor\n",
    "\n",
    "mlp_horsepower = MLPRegressor(\n",
    "    max_iter=10000,\n",
    "    hidden_layer_sizes=(64, 64),\n",
    "    activation=\"relu\",\n",
    "    solver=\"adam\",\n",
    "    learning_rate_init=0.001,\n",
    "    validation_fraction=0.2,\n",
    "    early_stopping=True,\n",
    "    random_state=0,\n",
    ")\n",
    "mlp_horsepower.fit(standarized_train_horsepower, train_labels)\n",
    "\n",
    "y = mlp_horsepower.predict(scaled_x)\n",
    "plot_horsepower(x, y)\n"
   ]
  },
  {
   "cell_type": "code",
   "execution_count": null,
   "metadata": {},
   "outputs": [],
   "source": [
    "\n",
    "y_pred = mlp_horsepower.predict(standarized_test_horsepower)\n",
    "\n",
    "test_results[\"mlp_horsepower\"] = mean_squared_error(\n",
    "    y_true=test_labels,\n",
    "    y_pred=y_pred,\n",
    ")\n",
    "\n",
    "test_results\n",
    "\n"
   ]
  },
  {
   "cell_type": "code",
   "execution_count": null,
   "metadata": {},
   "outputs": [],
   "source": [
    "\n",
    "##\n",
    "## Modelo de redes neuronales con VARIAS variables\n",
    "##\n",
    "\n",
    "mlp = MLPRegressor(\n",
    "    max_iter=10000,\n",
    "    hidden_layer_sizes=(64, 64),\n",
    "    activation=\"relu\",\n",
    "    solver=\"adam\",\n",
    "    learning_rate_init=0.001,\n",
    "    validation_fraction=0.2,\n",
    "    early_stopping=True,\n",
    "    random_state=0,\n",
    ")\n",
    "mlp.fit(standarized_train_features, train_labels)\n",
    "\n"
   ]
  },
  {
   "cell_type": "code",
   "execution_count": null,
   "metadata": {},
   "outputs": [],
   "source": [
    "\n",
    "pd.DataFrame(test_results, index=[\"Mean squared error [MPG]\"]).T\n"
   ]
  },
  {
   "cell_type": "code",
   "execution_count": null,
   "metadata": {},
   "outputs": [],
   "source": [
    "\n",
    "test_predictions = mlp.predict(standarized_test_features)\n",
    "\n",
    "plot_predictions(\n",
    "    y_true=test_labels,\n",
    "    y_pred=test_predictions,\n",
    ")\n"
   ]
  },
  {
   "cell_type": "code",
   "execution_count": null,
   "metadata": {},
   "outputs": [],
   "source": [
    "test_results[\"mlp\"] = mean_squared_error(\n",
    "    y_true=test_labels,\n",
    "    y_pred=test_predictions,\n",
    ")\n",
    "\n",
    "\n"
   ]
  },
  {
   "cell_type": "code",
   "execution_count": null,
   "metadata": {},
   "outputs": [],
   "source": [
    "#\n",
    "# Comparación de los modelos\n",
    "#\n",
    "\n",
    "pd.DataFrame(test_results, index=[\"Mean squared error [MPG]\"]).T"
   ]
  }
 ],
 "metadata": {
  "kernelspec": {
   "display_name": "Python 3",
   "language": "python",
   "name": "python3"
  },
  "language_info": {
   "codemirror_mode": {
    "name": "ipython",
    "version": 3
   },
   "file_extension": ".py",
   "mimetype": "text/x-python",
   "name": "python",
   "nbconvert_exporter": "python",
   "pygments_lexer": "ipython3",
   "version": "3.11.3"
  }
 },
 "nbformat": 4,
 "nbformat_minor": 2
}
